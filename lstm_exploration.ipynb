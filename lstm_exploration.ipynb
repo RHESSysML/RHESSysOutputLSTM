{
  "cells": [
    {
      "cell_type": "code",
      "execution_count": null,
      "metadata": {
        "colab": {
          "base_uri": "https://localhost:8080/"
        },
        "id": "8k_yVF8EHLqW",
        "outputId": "c662dd87-bb62-40b7-92fb-cf1ca33738e8"
      },
      "outputs": [
        {
          "output_type": "stream",
          "name": "stdout",
          "text": [
            "Drive already mounted at /content/drive; to attempt to forcibly remount, call drive.mount(\"/content/drive\", force_remount=True).\n"
          ]
        }
      ],
      "source": [
        "import pandas as pd\n",
        "import keras\n",
        "import tensorflow as tf\n",
        "from keras.layers import LSTM\n",
        "from keras.layers import Dense\n",
        "from keras.models import Sequential\n",
        "import sklearn.model_selection\n",
        "from sklearn.model_selection import cross_val_score, KFold\n",
        "from keras.wrappers.scikit_learn import KerasRegressor\n",
        "from sklearn.preprocessing import MinMaxScaler\n",
        "from sklearn.model_selection import cross_validate as CV\n",
        "from sklearn.model_selection import GridSearchCV\n",
        "from sklearn.metrics import mean_absolute_percentage_error\n",
        "import numpy as np\n",
        "import statistics\n",
        "import os\n",
        "# !pip install scikeras\n",
        "# from scikeras.wrappers import KerasRegressor\n",
        "\n",
        "os.environ['TF_CPP_MIN_LOG_LEVEL'] = '3'\n",
        "keras.backend.set_epsilon(1)\n",
        "\n",
        "try:\n",
        "  import google.colab\n",
        "  from google.colab import drive\n",
        "  drive.mount('/content/drive')\n",
        "  IN_COLAB = True\n",
        "except:\n",
        "  IN_COLAB = False\n",
        "\n",
        "\n"
      ]
    },
    {
      "cell_type": "code",
      "execution_count": null,
      "metadata": {
        "id": "ha12ladWHLqa"
      },
      "outputs": [],
      "source": [
        "if IN_COLAB == True:\n",
        "  df_monthly0 = pd.read_csv('/content/drive/Shareddrives/RHESSys ML Capstone/lstm/data/df_monthly0.csv')\n",
        "else:\n",
        "  df_monthly0 = pd.read_csv('df_monthly0.csv')\n",
        "\n",
        "npp0 = df_monthly0['npp']\n",
        "npp0 = npp0.values.reshape(-1, 1)\n",
        "df_monthly0_pred = df_monthly0.drop(columns=['scen', 'topo', 'npp'])\n",
        "monthly0_pred = df_monthly0_pred.values.reshape(len(df_monthly0_pred), len(df_monthly0_pred.columns))\n",
        "\n"
      ]
    },
    {
      "cell_type": "code",
      "execution_count": null,
      "metadata": {
        "colab": {
          "base_uri": "https://localhost:8080/"
        },
        "id": "v8M4ok_IHLqb",
        "outputId": "2fc1e724-2aad-4b11-86ed-00c5cadb6d6f"
      },
      "outputs": [
        {
          "output_type": "execute_result",
          "data": {
            "text/plain": [
              "(19440, 17)"
            ]
          },
          "metadata": {},
          "execution_count": 6
        }
      ],
      "source": [
        "monthly0_pred.shape"
      ]
    },
    {
      "cell_type": "code",
      "execution_count": null,
      "metadata": {
        "id": "HuDmyiFOHLqc"
      },
      "outputs": [],
      "source": [
        "# split into training and test sets\n",
        "test_size = 0.2\n",
        "train_size = 1 - test_size\n",
        "\n",
        "scaler = MinMaxScaler(feature_range=(0,1))\n",
        "\n",
        "scaler.fit(npp0)\n",
        "npp0 = scaler.transform(npp0)\n",
        "\n",
        "scaler.fit(monthly0_pred)\n",
        "monthly0 = scaler.transform(monthly0_pred)\n",
        "\n",
        "monthly0_train_pred, monthly0_test_pred = sklearn.model_selection.train_test_split(monthly0, test_size=test_size)\n",
        "npp0_train, npp0_test = sklearn.model_selection.train_test_split(npp0, test_size=test_size)\n",
        "\n",
        "# reshape predictor variables\n",
        "monthly0_train_pred = monthly0_train_pred.reshape((len(monthly0_train_pred), 1, 17))\n",
        "monthly0_test_pred = monthly0_test_pred.reshape((len(monthly0_test_pred), 1, 17))"
      ]
    },
    {
      "cell_type": "code",
      "execution_count": null,
      "metadata": {
        "colab": {
          "base_uri": "https://localhost:8080/"
        },
        "id": "FA5coD_nHLqd",
        "outputId": "e6b7861e-3c9b-4254-eabc-2ef7c03a7f77"
      },
      "outputs": [
        {
          "output_type": "stream",
          "name": "stdout",
          "text": [
            "(15552, 1, 17)\n",
            "(15552, 1)\n"
          ]
        }
      ],
      "source": [
        "print(monthly0_train_pred.shape)\n",
        "print(npp0_train.shape)"
      ]
    },
    {
      "cell_type": "code",
      "execution_count": null,
      "metadata": {
        "id": "DflzUSrLHLqe"
      },
      "outputs": [],
      "source": [
        "optimizer = tf.keras.optimizers.Adam(learning_rate=0.01)\n",
        "\n",
        "model = Sequential()\n",
        "model.add(LSTM(8, input_shape=(monthly0_train_pred.shape[1], monthly0_train_pred.shape[2]), return_sequences=True))\n",
        "# model.add(LSTM(12))\n",
        "model.add(Dense(8))\n",
        "model.add(Dense(4))\n",
        "model.add(Dense(1))\n",
        "\n",
        "model.compile(loss='mse', optimizer=optimizer, metrics=['mse'])"
      ]
    },
    {
      "cell_type": "code",
      "execution_count": null,
      "metadata": {
        "colab": {
          "base_uri": "https://localhost:8080/"
        },
        "id": "27qev06KHLqf",
        "outputId": "8bf4b8af-478a-4bfa-ce30-802b4925e08c"
      },
      "outputs": [
        {
          "output_type": "stream",
          "name": "stdout",
          "text": [
            "Epoch 1/12\n",
            "648/648 [==============================] - 5s 4ms/step - loss: 0.0069 - mse: 0.0069 - val_loss: 0.0062 - val_mse: 0.0062\n",
            "Epoch 2/12\n",
            "648/648 [==============================] - 2s 3ms/step - loss: 0.0061 - mse: 0.0061 - val_loss: 0.0062 - val_mse: 0.0062\n",
            "Epoch 3/12\n",
            "648/648 [==============================] - 2s 3ms/step - loss: 0.0061 - mse: 0.0061 - val_loss: 0.0062 - val_mse: 0.0062\n",
            "Epoch 4/12\n",
            "648/648 [==============================] - 2s 3ms/step - loss: 0.0060 - mse: 0.0060 - val_loss: 0.0062 - val_mse: 0.0062\n",
            "Epoch 5/12\n",
            "648/648 [==============================] - 2s 3ms/step - loss: 0.0060 - mse: 0.0060 - val_loss: 0.0063 - val_mse: 0.0063\n",
            "Epoch 6/12\n",
            "648/648 [==============================] - 2s 3ms/step - loss: 0.0060 - mse: 0.0060 - val_loss: 0.0062 - val_mse: 0.0062\n",
            "Epoch 7/12\n",
            "648/648 [==============================] - 2s 3ms/step - loss: 0.0060 - mse: 0.0060 - val_loss: 0.0062 - val_mse: 0.0062\n",
            "Epoch 8/12\n",
            "648/648 [==============================] - 2s 3ms/step - loss: 0.0060 - mse: 0.0060 - val_loss: 0.0062 - val_mse: 0.0062\n",
            "Epoch 9/12\n",
            "648/648 [==============================] - 2s 3ms/step - loss: 0.0060 - mse: 0.0060 - val_loss: 0.0062 - val_mse: 0.0062\n",
            "Epoch 10/12\n",
            "648/648 [==============================] - 2s 3ms/step - loss: 0.0060 - mse: 0.0060 - val_loss: 0.0062 - val_mse: 0.0062\n",
            "Epoch 11/12\n",
            "648/648 [==============================] - 2s 3ms/step - loss: 0.0060 - mse: 0.0060 - val_loss: 0.0062 - val_mse: 0.0062\n",
            "Epoch 12/12\n",
            "648/648 [==============================] - 2s 3ms/step - loss: 0.0059 - mse: 0.0059 - val_loss: 0.0062 - val_mse: 0.0062\n"
          ]
        }
      ],
      "source": [
        "history = model.fit(monthly0_train_pred, npp0_train, epochs=12,\n",
        " batch_size=24, validation_data=(monthly0_test_pred, npp0_test), verbose=1)\n"
      ]
    },
    {
      "cell_type": "code",
      "execution_count": null,
      "metadata": {
        "colab": {
          "base_uri": "https://localhost:8080/"
        },
        "id": "rzC-OPw5HLqg",
        "outputId": "77afd379-0dda-40e6-ff43-3a909c504996"
      },
      "outputs": [
        {
          "output_type": "execute_result",
          "data": {
            "text/plain": [
              "[0.01609533652663231,\n",
              " 0.009256032295525074,\n",
              " 0.007327558007091284,\n",
              " 0.0065243300050497055,\n",
              " 0.006192987784743309,\n",
              " 0.00602923147380352,\n",
              " 0.0060751973651349545,\n",
              " 0.006175519898533821,\n",
              " 0.006068916525691748,\n",
              " 0.005987121723592281,\n",
              " 0.005975231062620878,\n",
              " 0.005980682093650103]"
            ]
          },
          "metadata": {},
          "execution_count": 10
        }
      ],
      "source": [
        "history.history['val_mse']"
      ]
    },
    {
      "cell_type": "code",
      "execution_count": null,
      "metadata": {
        "colab": {
          "base_uri": "https://localhost:8080/",
          "height": 312
        },
        "id": "6ghjLGnyHLqg",
        "outputId": "5bc99140-dde6-4d39-c0e3-7d16694f8df3"
      },
      "outputs": [
        {
          "output_type": "execute_result",
          "data": {
            "text/plain": [
              "<matplotlib.legend.Legend at 0x7f3d1d991c50>"
            ]
          },
          "metadata": {},
          "execution_count": 14
        },
        {
          "output_type": "display_data",
          "data": {
            "text/plain": [
              "<Figure size 432x288 with 1 Axes>"
            ],
            "image/png": "[encoded data removed]"
          },
          "metadata": {
            "needs_background": "light"
          }
        }
      ],
      "source": [
        "import matplotlib.pyplot as plt\n",
        "\n",
        "loss = history.history['loss']\n",
        "val_loss = history.history['val_loss']\n",
        "acc = history.history['mse']\n",
        "val_acc = history.history['val_mse']\n",
        "\n",
        "epochs = range(1, len(acc) + 1)\n",
        "\n",
        "plt.plot(epochs, acc, 'bo', label='Training mape')\n",
        "plt.plot(epochs, val_acc, 'b', label='Validation mape')\n",
        "plt.title('Training and validation accuracy')\n",
        "plt.xlabel('Epochs')\n",
        "plt.ylabel('MAPE')\n",
        "plt.legend()"
      ]
    },
    {
      "cell_type": "markdown",
      "metadata": {
        "id": "TYWhJ7CnHLqh"
      },
      "source": [
        "## Grid search optimization"
      ]
    },
    {
      "cell_type": "code",
      "execution_count": null,
      "metadata": {
        "colab": {
          "base_uri": "https://localhost:8080/"
        },
        "id": "g2Tj6V7FHLqi",
        "outputId": "c4dbd6b1-eca7-45fe-b4d3-dbe2e40562e9"
      },
      "outputs": [
        {
          "output_type": "stream",
          "name": "stderr",
          "text": [
            "/usr/local/lib/python3.7/dist-packages/ipykernel_launcher.py:9: DeprecationWarning: KerasRegressor is deprecated, use Sci-Keras (https://github.com/adriangb/scikeras) instead. See https://www.adriangb.com/scikeras/stable/migration.html for help migrating.\n",
            "  if __name__ == '__main__':\n"
          ]
        }
      ],
      "source": [
        "def create_model(learning_rate=0.01):\n",
        "    model = Sequential()\n",
        "    model.add(LSTM(12, input_shape=(monthly0_train_pred.shape[1], monthly0_train_pred.shape[2])))\n",
        "    model.add(Dense(6))\n",
        "    model.add(Dense(1))\n",
        "    model.compile(loss='mse', optimizer=tf.keras.optimizers.Adam(learning_rate=learning_rate), metrics=['mse'])\n",
        "    return model\n",
        "\n",
        "model = KerasRegressor(build_fn=create_model, epochs=8, batch_size=12, verbose=0, shuffle=True)"
      ]
    },
    {
      "cell_type": "code",
      "execution_count": null,
      "metadata": {
        "collapsed": true,
        "jupyter": {
          "outputs_hidden": true
        },
        "tags": [],
        "id": "Jm8vQp_UHLqk",
        "colab": {
          "base_uri": "https://localhost:8080/"
        },
        "outputId": "821d7bd2-4a45-40ae-f77f-ee30d1387769"
      },
      "outputs": [
        {
          "output_type": "stream",
          "name": "stderr",
          "text": [
            "/usr/local/lib/python3.7/dist-packages/joblib/externals/loky/process_executor.py:705: UserWarning: A worker stopped while some jobs were given to the executor. This can be caused by a too short worker timeout or by a memory leak.\n",
            "  \"timeout or by a memory leak.\", UserWarning\n"
          ]
        }
      ],
      "source": [
        "batch_size = [12, 24, 36]\n",
        "epochs = [6, 8, 10]\n",
        "learning_rate = [0.1, 0.01, 0.001]\n",
        "# scoring in this method is always maximized, so metrics that require minimization are made negative\n",
        "scoring = 'neg_mean_squared_error'\n",
        "param_grid = dict(batch_size=batch_size, epochs=epochs, learning_rate=learning_rate)\n",
        "grid = GridSearchCV(estimator=model, param_grid=param_grid, n_jobs=-1, cv=3, scoring=scoring)\n",
        "grid_result = grid.fit(monthly0_train_pred, npp0_train)\n"
      ]
    },
    {
      "cell_type": "code",
      "execution_count": null,
      "metadata": {
        "colab": {
          "base_uri": "https://localhost:8080/"
        },
        "id": "5qAUFHIrHLqk",
        "outputId": "e41eaebd-bd4a-4638-a64c-13d8231171e8"
      },
      "outputs": [
        {
          "output_type": "stream",
          "name": "stdout",
          "text": [
            "Best: -0.005973 using {'batch_size': 36, 'epochs': 6, 'learning_rate': 0.01}\n",
            "-0.007138 (0.000951) with: {'batch_size': 12, 'epochs': 6, 'learning_rate': 0.1}\n",
            "-0.006060 (0.000081) with: {'batch_size': 12, 'epochs': 6, 'learning_rate': 0.01}\n",
            "-0.006193 (0.000095) with: {'batch_size': 12, 'epochs': 6, 'learning_rate': 0.001}\n",
            "-0.006572 (0.000763) with: {'batch_size': 12, 'epochs': 8, 'learning_rate': 0.1}\n",
            "-0.005998 (0.000086) with: {'batch_size': 12, 'epochs': 8, 'learning_rate': 0.01}\n",
            "-0.006065 (0.000030) with: {'batch_size': 12, 'epochs': 8, 'learning_rate': 0.001}\n",
            "-0.007894 (0.002360) with: {'batch_size': 12, 'epochs': 10, 'learning_rate': 0.1}\n",
            "-0.005998 (0.000140) with: {'batch_size': 12, 'epochs': 10, 'learning_rate': 0.01}\n",
            "-0.006094 (0.000208) with: {'batch_size': 12, 'epochs': 10, 'learning_rate': 0.001}\n",
            "-0.006250 (0.000417) with: {'batch_size': 24, 'epochs': 6, 'learning_rate': 0.1}\n",
            "-0.006098 (0.000132) with: {'batch_size': 24, 'epochs': 6, 'learning_rate': 0.01}\n",
            "-0.006017 (0.000120) with: {'batch_size': 24, 'epochs': 6, 'learning_rate': 0.001}\n",
            "-0.005997 (0.000106) with: {'batch_size': 24, 'epochs': 8, 'learning_rate': 0.1}\n",
            "-0.006003 (0.000145) with: {'batch_size': 24, 'epochs': 8, 'learning_rate': 0.01}\n",
            "-0.006165 (0.000082) with: {'batch_size': 24, 'epochs': 8, 'learning_rate': 0.001}\n",
            "-0.006329 (0.000268) with: {'batch_size': 24, 'epochs': 10, 'learning_rate': 0.1}\n",
            "-0.006081 (0.000215) with: {'batch_size': 24, 'epochs': 10, 'learning_rate': 0.01}\n",
            "-0.006014 (0.000139) with: {'batch_size': 24, 'epochs': 10, 'learning_rate': 0.001}\n",
            "-0.006356 (0.000162) with: {'batch_size': 36, 'epochs': 6, 'learning_rate': 0.1}\n",
            "-0.005973 (0.000121) with: {'batch_size': 36, 'epochs': 6, 'learning_rate': 0.01}\n",
            "-0.006060 (0.000137) with: {'batch_size': 36, 'epochs': 6, 'learning_rate': 0.001}\n",
            "-0.006063 (0.000087) with: {'batch_size': 36, 'epochs': 8, 'learning_rate': 0.1}\n",
            "-0.006010 (0.000093) with: {'batch_size': 36, 'epochs': 8, 'learning_rate': 0.01}\n",
            "-0.006041 (0.000114) with: {'batch_size': 36, 'epochs': 8, 'learning_rate': 0.001}\n",
            "-0.006844 (0.000615) with: {'batch_size': 36, 'epochs': 10, 'learning_rate': 0.1}\n",
            "-0.006052 (0.000076) with: {'batch_size': 36, 'epochs': 10, 'learning_rate': 0.01}\n",
            "-0.006114 (0.000185) with: {'batch_size': 36, 'epochs': 10, 'learning_rate': 0.001}\n"
          ]
        }
      ],
      "source": [
        "print(\"Best: %f using %s\" % (grid_result.best_score_, grid_result.best_params_))\n",
        "means = grid_result.cv_results_['mean_test_score']\n",
        "stds = grid_result.cv_results_['std_test_score']\n",
        "params = grid_result.cv_results_['params']\n",
        "for mean, stdev, param in zip(means, stds, params):\n",
        "    print(\"%f (%f) with: %r\" % (mean, stdev, param))"
      ]
    },
    {
      "cell_type": "code",
      "source": [
        "# Save grid search results to csv\n",
        "import joblib\n",
        "from datetime import datetime\n",
        "\n",
        "df = pd.DataFrame(grid_result.cv_results_)\n",
        "df = df[['mean_test_score', 'param_batch_size', 'param_epochs', 'param_learning_rate',]]\n",
        "now = datetime.now()\n",
        "timestamp = now.strftime('%m-%d--%H:%M')\n",
        "filename = '/content/drive/Shareddrives/RHESSys ML Capstone/lstm/grid_searches/lstm_grid_search_' + timestamp + '.csv'\n",
        "\n",
        "df.to_csv(filename)"
      ],
      "metadata": {
        "id": "bj6fA2eKGHCV"
      },
      "execution_count": null,
      "outputs": []
    },
    {
      "cell_type": "code",
      "execution_count": null,
      "metadata": {
        "id": "SkG5r648HLql"
      },
      "outputs": [],
      "source": [
        "# sorted(sklearn.metrics.SCORERS.keys())\n",
        "# KerasRegressor().get_params().keys()"
      ]
    }
  ],
  "metadata": {
    "interpreter": {
      "hash": "db59ebd3dab099bfb2156a4d1ba20cc223949074e457dcd574492f48bf81effa"
    },
    "kernelspec": {
      "display_name": "Python 3 (ipykernel)",
      "language": "python",
      "name": "python3"
    },
    "language_info": {
      "codemirror_mode": {
        "name": "ipython",
        "version": 3
      },
      "file_extension": ".py",
      "mimetype": "text/x-python",
      "name": "python",
      "nbconvert_exporter": "python",
      "pygments_lexer": "ipython3",
      "version": "3.9.7"
    },
    "colab": {
      "name": "lstm_exploration.ipynb",
      "provenance": [],
      "collapsed_sections": []
    }
  },
  "nbformat": 4,
  "nbformat_minor": 0
}